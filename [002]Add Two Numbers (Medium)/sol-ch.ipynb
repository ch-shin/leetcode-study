{
 "cells": [
  {
   "cell_type": "code",
   "execution_count": null,
   "metadata": {},
   "outputs": [],
   "source": [
    "# Definition for singly-linked list.\n",
    "class ListNode(object):\n",
    "    def __init__(self, val=0, next=None):\n",
    "        self.val = val\n",
    "        self.next = next\n",
    "class Solution(object):\n",
    "    def addTwoNumbers(self, l1, l2):\n",
    "        \"\"\"\n",
    "        :type l1: ListNode\n",
    "        :type l2: ListNode\n",
    "        :rtype: ListNode\n",
    "        \"\"\"\n",
    "        answer = ListNode()\n",
    "        cursor = answer\n",
    "        offset = 0\n",
    "        while (l1 is not None) or (l2 is not None):\n",
    "            if (l1 is not None) and (l2 is not None):\n",
    "                sum_val = l1.val + l2.val + offset\n",
    "                val, offset = self.get_val_offset(sum_val)\n",
    "                l1 = l1.next\n",
    "                l2 = l2.next\n",
    "            elif (l1 is not None):\n",
    "                sum_val = l1.val + offset\n",
    "                val, offset = self.get_val_offset(sum_val)\n",
    "                l1 = l1.next\n",
    "            else:  # (l2 is not None)\n",
    "                sum_val = l2.val + offset\n",
    "                val, offset = self.get_val_offset(sum_val)\n",
    "                l2 = l2.next\n",
    "            cursor.val = val\n",
    "            \n",
    "            \n",
    "            if (l1 is None) and (l2 is None):\n",
    "                if offset > 0:\n",
    "                    cursor.next = ListNode()\n",
    "                    cursor = cursor.next\n",
    "                    cursor.val = offset\n",
    "                else:\n",
    "                    cursor.next = None\n",
    "            else:\n",
    "                cursor.next = ListNode()\n",
    "                cursor = cursor.next\n",
    "        return answer\n",
    "                    \n",
    "    def get_val_offset(self, sum_val):\n",
    "        if sum_val >= 10:\n",
    "            val = sum_val - 10\n",
    "            offset = 1\n",
    "        else:\n",
    "            val = sum_val\n",
    "            offset = 0\n",
    "        return val, offset"
   ]
  }
 ],
 "metadata": {
  "kernelspec": {
   "display_name": "Python 3",
   "language": "python",
   "name": "python3"
  },
  "language_info": {
   "codemirror_mode": {
    "name": "ipython",
    "version": 3
   },
   "file_extension": ".py",
   "mimetype": "text/x-python",
   "name": "python",
   "nbconvert_exporter": "python",
   "pygments_lexer": "ipython3",
   "version": "3.8.3"
  }
 },
 "nbformat": 4,
 "nbformat_minor": 4
}
