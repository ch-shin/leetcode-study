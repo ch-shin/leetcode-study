{
 "cells": [
  {
   "cell_type": "code",
   "execution_count": 4,
   "metadata": {},
   "outputs": [],
   "source": [
    "class Solution(object):\n",
    "    def jump(self, nums):\n",
    "        \"\"\"\n",
    "        :type nums: List[int]\n",
    "        :rtype: int\n",
    "        \"\"\"\n",
    "        current_index = 0\n",
    "        jump_count = 0\n",
    "        \n",
    "        while current_index < len(nums)-1:\n",
    "            max_jump = nums[current_index]\n",
    "            \n",
    "            # find greedy max\n",
    "            greedy_max = 0\n",
    "            greedy_idxmax = 0\n",
    "            for i in range(1, max_jump+1):\n",
    "                candidate_index = current_index + i\n",
    "                \n",
    "                # early stopping\n",
    "                if candidate_index >= len(nums) - 1:\n",
    "                    return jump_count + 1\n",
    "                \n",
    "                if greedy_max < i + nums[candidate_index]:\n",
    "                    greedy_max = i + nums[candidate_index]\n",
    "                    greedy_idxmax = candidate_index\n",
    "                    \n",
    "            # jump with greedy_max\n",
    "            current_index = greedy_idxmax\n",
    "            jump_count += 1\n",
    "            \n",
    "        return jump_count"
   ]
  },
  {
   "cell_type": "markdown",
   "metadata": {},
   "source": [
    "Runtime: 104 ms, faster than 50.98% of Python online submissions for Jump Game II.\n",
    "\n",
    "Memory Usage: 15.5 MB, less than 27.65% of Python online submissions for Jump Game II."
   ]
  }
 ],
 "metadata": {
  "kernelspec": {
   "display_name": "Python 3",
   "language": "python",
   "name": "python3"
  },
  "language_info": {
   "codemirror_mode": {
    "name": "ipython",
    "version": 3
   },
   "file_extension": ".py",
   "mimetype": "text/x-python",
   "name": "python",
   "nbconvert_exporter": "python",
   "pygments_lexer": "ipython3",
   "version": "3.8.5"
  }
 },
 "nbformat": 4,
 "nbformat_minor": 4
}
