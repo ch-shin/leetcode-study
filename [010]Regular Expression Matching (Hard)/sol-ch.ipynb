{
 "cells": [
  {
   "cell_type": "code",
   "execution_count": null,
   "metadata": {},
   "outputs": [],
   "source": [
    "class Solution:\n",
    "    def isMatch(self, s: str, p: str) -> bool:\n",
    "        if len(p) == 0:\n",
    "            if len(s) == 0:\n",
    "                return True\n",
    "            else:\n",
    "                return False\n",
    "            \n",
    "        if (len(s) > 0) and (len(p) > 0):\n",
    "            first_char_match = (p[0] in [s[0], '.'])\n",
    "        else: # len(p) >0 and len(s) == 0\n",
    "            first_char_match = False\n",
    "        \n",
    "        \n",
    "        if (len(p) >= 2) and (p[1] == \"*\"):\n",
    "            return self.isMatch(s, p[2:]) or (first_char_match and self.isMatch(s[1:], p))\n",
    "        else:\n",
    "            return first_char_match and self.isMatch(s[1:], p[1:])"
   ]
  }
 ],
 "metadata": {
  "kernelspec": {
   "display_name": "Python 3",
   "language": "python",
   "name": "python3"
  },
  "language_info": {
   "codemirror_mode": {
    "name": "ipython",
    "version": 3
   },
   "file_extension": ".py",
   "mimetype": "text/x-python",
   "name": "python",
   "nbconvert_exporter": "python",
   "pygments_lexer": "ipython3",
   "version": "3.8.3"
  }
 },
 "nbformat": 4,
 "nbformat_minor": 4
}
