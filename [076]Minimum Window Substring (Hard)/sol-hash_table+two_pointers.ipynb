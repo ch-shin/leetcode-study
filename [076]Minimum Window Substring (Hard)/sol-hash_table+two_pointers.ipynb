{
 "cells": [
  {
   "cell_type": "markdown",
   "metadata": {},
   "source": [
    "Given two strings s and t, return the minimum window in s which will contain all the characters in t. If there is no such window in s that covers all characters in t, return the empty string \"\".\n",
    "\n",
    "Note that If there is such a window, it is guaranteed that there will always be only one unique minimum window in s.\n",
    "\n",
    " \n",
    "\n",
    "Example 1:\n",
    "\n",
    "Input: s = \"ADOBECODEBANC\", t = \"ABC\"\n",
    "Output: \"BANC\"\n",
    "Example 2:\n",
    "\n",
    "Input: s = \"a\", t = \"a\"\n",
    "Output: \"a\"\n",
    " \n",
    "\n",
    "Constraints:\n",
    "\n",
    "1 <= s.length, t.length <= 105\n",
    "s and t consist of English letters."
   ]
  },
  {
   "cell_type": "code",
   "execution_count": 1,
   "metadata": {},
   "outputs": [],
   "source": [
    "class Solution(object):\n",
    "    def minWindow(self, s, t):\n",
    "        \"\"\"\n",
    "        :type s: str\n",
    "        :type t: str\n",
    "        :rtype: str\n",
    "        \"\"\"\n",
    "        t_occurence_char = []\n",
    "        t_occurence_idx = []\n",
    "\n",
    "        # collect all occurences of characters\n",
    "        for i, char in enumerate(s):\n",
    "            if char in t:\n",
    "                t_occurence_char.append(char)\n",
    "                t_occurence_idx.append(i)\n",
    "                \n",
    "        # early stopping if t_occurence is empty\n",
    "        if len(t_occurence_idx) == 0:\n",
    "            return \"\"\n",
    "        \n",
    "        # count the occurences of characters\n",
    "        char_counter = {}\n",
    "        for char in t:\n",
    "            if char not in char_counter:\n",
    "                char_counter[char] = 0\n",
    "            char_counter[char] += 1\n",
    "        \n",
    "        # search minimal window substring\n",
    "        min_window = float(\"inf\")\n",
    "        min_substring = \"\"\n",
    "        left = 0\n",
    "        right = 0\n",
    "        char_counter[t_occurence_char[0]] -= 1\n",
    "        while (left < len(t_occurence_char)) & (right < len(t_occurence_char)):\n",
    "            if check_non_positive(char_counter):\n",
    "                current_window = t_occurence_idx[right] - t_occurence_idx[left]\n",
    "                current_substring = s[t_occurence_idx[left]:t_occurence_idx[right]+1]\n",
    "                if current_window < min_window:\n",
    "                    min_window = current_window\n",
    "                    min_substring = current_substring\n",
    "                left_char = t_occurence_char[left]\n",
    "                char_counter[left_char] += 1\n",
    "                left += 1\n",
    "            else:\n",
    "                right += 1\n",
    "                if right >= len(t_occurence_char):\n",
    "                    break\n",
    "                else:\n",
    "                    right_char = t_occurence_char[right]\n",
    "                    char_counter[right_char] -= 1\n",
    "        return min_substring\n",
    "                \n",
    "                \n",
    "        \n",
    "def check_non_positive(count_dict):\n",
    "    all_non_positive = True\n",
    "    for key in count_dict:\n",
    "        all_non_positive = all_non_positive & (count_dict[key]<=0)\n",
    "    return all_non_positive"
   ]
  },
  {
   "cell_type": "markdown",
   "metadata": {},
   "source": [
    "Runtime: 564 ms, faster than 9.75% of Python online submissions for Minimum Window Substring.\n",
    "\n",
    "Memory Usage: 17.5 MB, less than 7.85% of Python online submissions for Minimum Window Substring."
   ]
  }
 ],
 "metadata": {
  "kernelspec": {
   "display_name": "Python 3",
   "language": "python",
   "name": "python3"
  },
  "language_info": {
   "codemirror_mode": {
    "name": "ipython",
    "version": 3
   },
   "file_extension": ".py",
   "mimetype": "text/x-python",
   "name": "python",
   "nbconvert_exporter": "python",
   "pygments_lexer": "ipython3",
   "version": "3.8.5"
  }
 },
 "nbformat": 4,
 "nbformat_minor": 4
}
