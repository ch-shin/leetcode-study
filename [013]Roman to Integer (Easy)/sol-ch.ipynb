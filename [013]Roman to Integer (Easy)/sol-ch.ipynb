{
 "cells": [
  {
   "cell_type": "code",
   "execution_count": null,
   "metadata": {},
   "outputs": [],
   "source": [
    "class Solution:\n",
    "    def romanToInt(self, s: str) -> int:\n",
    "        roman_to_int_unigram = {\n",
    "            'M': 1000,\n",
    "            'D': 500,\n",
    "            'C': 100,\n",
    "            'L': 50,\n",
    "            'X': 10,\n",
    "            'V': 5,\n",
    "            'I': 1\n",
    "        }\n",
    "        roman_to_int_bigram = {\n",
    "            'CM': 900,\n",
    "            'CD': 400,\n",
    "            'XC': 90,\n",
    "            'XL': 40,\n",
    "            'IX': 9,\n",
    "            'IV': 4\n",
    "        }\n",
    "        result_int = 0\n",
    "        \n",
    "        while len(s) > 0:\n",
    "            if (len(s) >= 2) and (s[:2] in roman_to_int_bigram.keys()):\n",
    "                result_int += roman_to_int_bigram[s[:2]]\n",
    "                s = s[2:]\n",
    "            else:\n",
    "                result_int += roman_to_int_unigram[s[:1]]\n",
    "                s = s[1:]\n",
    "        return result_int"
   ]
  }
 ],
 "metadata": {
  "kernelspec": {
   "display_name": "Python 3",
   "language": "python",
   "name": "python3"
  },
  "language_info": {
   "codemirror_mode": {
    "name": "ipython",
    "version": 3
   },
   "file_extension": ".py",
   "mimetype": "text/x-python",
   "name": "python",
   "nbconvert_exporter": "python",
   "pygments_lexer": "ipython3",
   "version": "3.8.3"
  }
 },
 "nbformat": 4,
 "nbformat_minor": 4
}
