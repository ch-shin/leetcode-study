{
 "cells": [
  {
   "cell_type": "code",
   "execution_count": null,
   "metadata": {},
   "outputs": [],
   "source": [
    "class Solution(object):\n",
    "    def threeSumClosest(self, nums, target):\n",
    "        \"\"\"\n",
    "        :type nums: List[int]\n",
    "        :type target: int\n",
    "        :rtype: int\n",
    "        \"\"\"\n",
    "        nums.sort()\n",
    "        min_distance = float(\"inf\")\n",
    "        closest_sum = 0\n",
    "        for i in range(len(nums)-2):\n",
    "            first_num = nums[i]\n",
    "            # the sum of the second and third num should be equal to -first_num\n",
    "            second_num_idx = i + 1\n",
    "            third_num_idx = len(nums) - 1\n",
    "            while second_num_idx < third_num_idx:\n",
    "                second_num = nums[second_num_idx]\n",
    "                third_num = nums[third_num_idx]\n",
    "                three_sum = first_num + second_num + third_num\n",
    "                \n",
    "                if three_sum == target:\n",
    "                    return target\n",
    "                elif three_sum > target:\n",
    "                    third_num_idx -= 1\n",
    "                else:  # three_sum < 0\n",
    "                    second_num_idx += 1\n",
    "                \n",
    "                if abs(target - three_sum) < min_distance:\n",
    "                    min_distance = abs(target - three_sum)\n",
    "                    closest_sum = three_sum\n",
    "        return closest_sum"
   ]
  }
 ],
 "metadata": {
  "kernelspec": {
   "display_name": "Python 3",
   "language": "python",
   "name": "python3"
  },
  "language_info": {
   "codemirror_mode": {
    "name": "ipython",
    "version": 3
   },
   "file_extension": ".py",
   "mimetype": "text/x-python",
   "name": "python",
   "nbconvert_exporter": "python",
   "pygments_lexer": "ipython3",
   "version": "3.8.3"
  }
 },
 "nbformat": 4,
 "nbformat_minor": 4
}
