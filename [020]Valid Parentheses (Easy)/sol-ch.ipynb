{
 "cells": [
  {
   "cell_type": "code",
   "execution_count": null,
   "metadata": {},
   "outputs": [],
   "source": [
    "class Solution(object):\n",
    "    def isValid(self, s):\n",
    "        \"\"\"\n",
    "        :type s: str\n",
    "        :rtype: bool\n",
    "        \"\"\"\n",
    "        stack = Stack()\n",
    "        mapper = {\n",
    "            \"(\": \")\",\n",
    "            \"[\": \"]\",\n",
    "            \"{\": \"}\"\n",
    "        }\n",
    "        \n",
    "        for char in s:\n",
    "            if char in \"([{\":\n",
    "                stack.push(char)\n",
    "            else:  # \")]}\"\n",
    "                if stack.isEmpty():\n",
    "                    return False\n",
    "                else:\n",
    "                    head = stack.pop()\n",
    "                    if mapper[head] != char:\n",
    "                        return False\n",
    "\n",
    "        if not stack.isEmpty():\n",
    "            return False\n",
    "        else:\n",
    "            return True\n",
    "\n",
    "class Stack(object):\n",
    "    # Reference: https://runestone.academy/runestone/books/published/pythonds/BasicDS/ImplementingaStackinPython.html\n",
    "    def __init__(self):\n",
    "         self.items = []\n",
    "            \n",
    "    def isEmpty(self):\n",
    "        return self.items == []\n",
    "    \n",
    "    def push(self, item):\n",
    "        self.items.append(item)\n",
    "        \n",
    "    def pop(self):\n",
    "        return self.items.pop()\n",
    "    \n",
    "    def peek(self):\n",
    "        return self.items[len(self.items)-1]\n",
    "    \n",
    "    def size(self):\n",
    "        return len(self.items)\n"
   ]
  }
 ],
 "metadata": {
  "kernelspec": {
   "display_name": "Python 3",
   "language": "python",
   "name": "python3"
  },
  "language_info": {
   "codemirror_mode": {
    "name": "ipython",
    "version": 3
   },
   "file_extension": ".py",
   "mimetype": "text/x-python",
   "name": "python",
   "nbconvert_exporter": "python",
   "pygments_lexer": "ipython3",
   "version": "3.8.3"
  }
 },
 "nbformat": 4,
 "nbformat_minor": 4
}
