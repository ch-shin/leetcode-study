{
 "cells": [
  {
   "cell_type": "code",
   "execution_count": null,
   "metadata": {},
   "outputs": [],
   "source": [
    "class Solution(object):\n",
    "    def findMedianSortedArrays(self, nums1, nums2):\n",
    "        \"\"\"\n",
    "        :type nums1: List[int]\n",
    "        :type nums2: List[int]\n",
    "        :rtype: float\n",
    "        \"\"\"\n",
    "        merged = []\n",
    "        cursor_nums1 = 0\n",
    "        cursor_nums2 = 0\n",
    "        while (cursor_nums1 < len(nums1)) and (cursor_nums2 < len(nums2)):\n",
    "            if nums1[cursor_nums1] < nums2[cursor_nums2]:\n",
    "                merged.append(nums1[cursor_nums1])\n",
    "                cursor_nums1 +=1\n",
    "            else:\n",
    "                merged.append(nums2[cursor_nums2])\n",
    "                cursor_nums2 +=1\n",
    "        if cursor_nums1 < len(nums1):\n",
    "            merged = merged + nums1[cursor_nums1:]\n",
    "        if cursor_nums2 < len(nums2):\n",
    "            merged = merged + nums2[cursor_nums2:]\n",
    "        print(merged)\n",
    "        med = getMedianFromSortedArray(merged)\n",
    "        return med\n",
    "            \n",
    "def getMedianFromSortedArray(sorted_array):\n",
    "    mid = len(sorted_array) // 2\n",
    "    if len(sorted_array) % 2 == 0:\n",
    "        med1 = sorted_array[mid-1]\n",
    "        med2 = sorted_array[mid]\n",
    "        med = (med1 + med2) / 2.0\n",
    "    else:\n",
    "        med = sorted_array[mid]\n",
    "    return med"
   ]
  }
 ],
 "metadata": {
  "kernelspec": {
   "display_name": "Python 3",
   "language": "python",
   "name": "python3"
  },
  "language_info": {
   "codemirror_mode": {
    "name": "ipython",
    "version": 3
   },
   "file_extension": ".py",
   "mimetype": "text/x-python",
   "name": "python",
   "nbconvert_exporter": "python",
   "pygments_lexer": "ipython3",
   "version": "3.8.3"
  }
 },
 "nbformat": 4,
 "nbformat_minor": 4
}
