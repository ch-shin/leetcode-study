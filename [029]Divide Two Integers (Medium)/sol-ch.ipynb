{
 "cells": [
  {
   "cell_type": "code",
   "execution_count": null,
   "metadata": {},
   "outputs": [],
   "source": [
    "class Solution(object):\n",
    "    def divide(self, dividend, divisor):\n",
    "        \"\"\"\n",
    "        :type dividend: int\n",
    "        :type divisor: int\n",
    "        :rtype: int\n",
    "        \"\"\"\n",
    "#         # Naive solution --> Time out\n",
    "#         if (dividend > 0 and divisor < 0) or (dividend < 0 and divisor > 0):\n",
    "#             sign = -1\n",
    "#         else:\n",
    "#             sign = 1\n",
    "        \n",
    "#         dividend = abs(dividend)\n",
    "#         divisor = abs(divisor)\n",
    "        \n",
    "#         quotient = 0\n",
    "#         while dividend > divisor:\n",
    "#             quotient += 1\n",
    "#             dividend -= divisor\n",
    "        \n",
    "#         return quotient * sign\n",
    "\n",
    "        if (dividend > 0 and divisor < 0) or (dividend < 0 and divisor > 0):\n",
    "            sign = -1\n",
    "        else:\n",
    "            sign = 1\n",
    "        \n",
    "        quotient = 0\n",
    "        dividend, divisor = abs(dividend), abs(divisor)        \n",
    "        for i in reversed(range(32)):\n",
    "            if dividend >= divisor << i: \n",
    "                dividend -= divisor << i\n",
    "                quotient |= 1 << i\n",
    "        int_max = 2**31 - 1\n",
    "        int_min = -2**31\n",
    "        quotient *= sign\n",
    "        return max(int_min, min(int_max, quotient))"
   ]
  }
 ],
 "metadata": {
  "kernelspec": {
   "display_name": "Python 3",
   "language": "python",
   "name": "python3"
  },
  "language_info": {
   "codemirror_mode": {
    "name": "ipython",
    "version": 3
   },
   "file_extension": ".py",
   "mimetype": "text/x-python",
   "name": "python",
   "nbconvert_exporter": "python",
   "pygments_lexer": "ipython3",
   "version": "3.8.3"
  }
 },
 "nbformat": 4,
 "nbformat_minor": 4
}
