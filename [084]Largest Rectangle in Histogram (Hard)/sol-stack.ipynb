{
 "cells": [
  {
   "cell_type": "code",
   "execution_count": 1,
   "metadata": {},
   "outputs": [],
   "source": [
    "class Solution(object):\n",
    "    def largestRectangleArea(self, heights):\n",
    "        \"\"\"\n",
    "        :type heights: List[int]\n",
    "        :rtype: int\n",
    "        \"\"\"\n",
    "        \n",
    "        max_area = 0\n",
    "        stack = [] # stack of (index, height)\n",
    "        \n",
    "        for i, h in enumerate(heights):\n",
    "            start = i\n",
    "            while len(stack) > 0 and stack[-1][1] > h:\n",
    "                index, height = stack.pop()\n",
    "                max_area = max(max_area, height * (i - index))\n",
    "                start = index\n",
    "            stack.append((start, h))\n",
    "        \n",
    "        # remaining heights ~ the end of the histogram\n",
    "        for i, h in stack:\n",
    "            if max_area < h * (len(heights) - i):\n",
    "                max_area = max(max_area, h * (len(heights) - i))\n",
    "        return max_area"
   ]
  },
  {
   "cell_type": "markdown",
   "metadata": {},
   "source": [
    "Runtime: 88 ms, faster than 52.44% of Python online submissions for Largest Rectangle in Histogram.\n",
    "Memory Usage: 17.4 MB, less than 11.78% of Python online submissions for Largest Rectangle in Histogram."
   ]
  }
 ],
 "metadata": {
  "kernelspec": {
   "display_name": "Python 3",
   "language": "python",
   "name": "python3"
  },
  "language_info": {
   "codemirror_mode": {
    "name": "ipython",
    "version": 3
   },
   "file_extension": ".py",
   "mimetype": "text/x-python",
   "name": "python",
   "nbconvert_exporter": "python",
   "pygments_lexer": "ipython3",
   "version": "3.8.5"
  }
 },
 "nbformat": 4,
 "nbformat_minor": 4
}
