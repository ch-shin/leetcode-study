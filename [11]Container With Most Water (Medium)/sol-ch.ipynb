{
 "cells": [
  {
   "cell_type": "code",
   "execution_count": null,
   "metadata": {},
   "outputs": [],
   "source": [
    "class Solution(object):\n",
    "    def maxArea(self, height):\n",
    "        \"\"\"\n",
    "        :type height: List[int]\n",
    "        :rtype: int\n",
    "        \"\"\"\n",
    "        if len(height) < 2:\n",
    "            return 0\n",
    "        else:\n",
    "            max_area = 0\n",
    "            left_idx = 0\n",
    "            right_idx = len(height) - 1\n",
    "            \n",
    "            while left_idx < right_idx:\n",
    "                max_area = max(max_area, (right_idx - left_idx) * min(height[left_idx], height[right_idx]))\n",
    "                if height[left_idx] <= height[right_idx]:\n",
    "                    left_idx += 1\n",
    "                else:\n",
    "                    right_idx -= 1\n",
    "            return max_area"
   ]
  }
 ],
 "metadata": {
  "kernelspec": {
   "display_name": "Python 3",
   "language": "python",
   "name": "python3"
  },
  "language_info": {
   "codemirror_mode": {
    "name": "ipython",
    "version": 3
   },
   "file_extension": ".py",
   "mimetype": "text/x-python",
   "name": "python",
   "nbconvert_exporter": "python",
   "pygments_lexer": "ipython3",
   "version": "3.8.3"
  }
 },
 "nbformat": 4,
 "nbformat_minor": 4
}
