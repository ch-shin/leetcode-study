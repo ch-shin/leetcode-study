{
 "cells": [
  {
   "cell_type": "code",
   "execution_count": null,
   "metadata": {},
   "outputs": [],
   "source": [
    "class Solution(object):\n",
    "    def fourSum(self, nums, target):\n",
    "        \"\"\"\n",
    "        :type nums: List[int]\n",
    "        :type target: int\n",
    "        :rtype: List[List[int]]\n",
    "        \"\"\"\n",
    "        nums.sort()\n",
    "        four_sum_set = set()\n",
    "        for i in range(len(nums)-3):\n",
    "            three_sums = threeSum(nums[(i+1):], target - nums[i])\n",
    "            four_sums = set()\n",
    "            for three_sum in three_sums:\n",
    "                four_sum = (nums[i],) + three_sum\n",
    "                four_sums.add(four_sum)\n",
    "            four_sum_set = four_sum_set.union(four_sums)\n",
    "        return four_sum_set\n",
    "    \n",
    "def threeSum(nums, target):\n",
    "        \"\"\"\n",
    "        :type nums: List[int]\n",
    "        :rtype: List[List[int]]\n",
    "        \"\"\"\n",
    "        three_sums = set()\n",
    "        for i in range(len(nums)-2):\n",
    "            first_num = nums[i]\n",
    "            second_num_idx = i + 1\n",
    "            third_num_idx = len(nums) - 1\n",
    "            while second_num_idx < third_num_idx:\n",
    "                second_num = nums[second_num_idx]\n",
    "                third_num = nums[third_num_idx]\n",
    "                three_sum = first_num + second_num + third_num\n",
    "                \n",
    "                if three_sum == target:\n",
    "                    triplet = (first_num, second_num, third_num)\n",
    "                    three_sums.add(triplet)\n",
    "                    second_num_idx += 1\n",
    "                    third_num_idx -= 1\n",
    "                elif three_sum > target:\n",
    "                    third_num_idx -= 1\n",
    "                else:  # three_sum < target\n",
    "                    second_num_idx += 1\n",
    "        return three_sums"
   ]
  }
 ],
 "metadata": {
  "kernelspec": {
   "display_name": "Python 3",
   "language": "python",
   "name": "python3"
  },
  "language_info": {
   "codemirror_mode": {
    "name": "ipython",
    "version": 3
   },
   "file_extension": ".py",
   "mimetype": "text/x-python",
   "name": "python",
   "nbconvert_exporter": "python",
   "pygments_lexer": "ipython3",
   "version": "3.7.4"
  }
 },
 "nbformat": 4,
 "nbformat_minor": 2
}
