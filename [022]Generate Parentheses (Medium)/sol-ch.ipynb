{
 "cells": [
  {
   "cell_type": "code",
   "execution_count": null,
   "metadata": {},
   "outputs": [],
   "source": [
    "class Solution(object):\n",
    "    def generateParenthesis(self, n):\n",
    "        \"\"\"\n",
    "        :type n: int\n",
    "        :rtype: List[str]\n",
    "        \"\"\"\n",
    "        parenthesis_tree = BinaryTree(\"(\", n-1, n)\n",
    "        parenthesis_tree.expand()\n",
    "        return parenthesis_tree.traverse()\n",
    "        \n",
    "class BinaryTree(object):\n",
    "    def __init__(self, parenthesis, opener_count, closer_count):\n",
    "        self.parenthesis = parenthesis\n",
    "        self.opener_count = opener_count\n",
    "        self.closer_count = closer_count\n",
    "        self.left = None\n",
    "        self.right = None\n",
    "    \n",
    "    def expand(self):\n",
    "        if self.opener_count > 0:\n",
    "            self.left = BinaryTree(self.parenthesis+\"(\", self.opener_count-1, self.closer_count)\n",
    "            self.left.expand()\n",
    "        if self.opener_count < self.closer_count:\n",
    "            self.right = BinaryTree(self.parenthesis+\")\", self.opener_count, self.closer_count-1)\n",
    "            self.right.expand()\n",
    "            \n",
    "            \n",
    "    def traverse(self):\n",
    "        if (self.left is not None) and (self.right is not None):\n",
    "            return self.left.traverse() + self.right.traverse()\n",
    "        elif self.left is not None:\n",
    "            return self.left.traverse()\n",
    "        elif self.right is not None:\n",
    "            return self.right.traverse()\n",
    "        else:  # both subtree is None\n",
    "            return [self.parenthesis]"
   ]
  }
 ],
 "metadata": {
  "kernelspec": {
   "display_name": "Python 3",
   "language": "python",
   "name": "python3"
  },
  "language_info": {
   "codemirror_mode": {
    "name": "ipython",
    "version": 3
   },
   "file_extension": ".py",
   "mimetype": "text/x-python",
   "name": "python",
   "nbconvert_exporter": "python",
   "pygments_lexer": "ipython3",
   "version": "3.8.3"
  }
 },
 "nbformat": 4,
 "nbformat_minor": 4
}
