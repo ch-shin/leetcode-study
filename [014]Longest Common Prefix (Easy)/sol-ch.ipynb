{
 "cells": [
  {
   "cell_type": "code",
   "execution_count": null,
   "metadata": {},
   "outputs": [],
   "source": [
    "class Solution:\n",
    "    def longestCommonPrefix(self, strs: List[str]) -> str:\n",
    "        common_prefix = \"\"\n",
    "        if len(strs) > 0:\n",
    "            # get the minimum length of strs\n",
    "            strs_length = map(len, strs)\n",
    "            min_length = min(strs_length)\n",
    "            i = 0\n",
    "            while i < min_length:\n",
    "                char_of_first_str = strs[0][i]\n",
    "                all_contain = all(map(lambda x: char_of_first_str == x[i], strs))\n",
    "                if all_contain:\n",
    "                    common_prefix = common_prefix + char_of_first_str\n",
    "                    i = i + 1\n",
    "                else:\n",
    "                    break\n",
    "        return common_prefix"
   ]
  }
 ],
 "metadata": {
  "kernelspec": {
   "display_name": "Python 3",
   "language": "python",
   "name": "python3"
  },
  "language_info": {
   "codemirror_mode": {
    "name": "ipython",
    "version": 3
   },
   "file_extension": ".py",
   "mimetype": "text/x-python",
   "name": "python",
   "nbconvert_exporter": "python",
   "pygments_lexer": "ipython3",
   "version": "3.8.3"
  }
 },
 "nbformat": 4,
 "nbformat_minor": 4
}
