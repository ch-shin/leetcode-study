{
 "cells": [
  {
   "cell_type": "code",
   "execution_count": null,
   "metadata": {},
   "outputs": [],
   "source": [
    "# Definition for singly-linked list.\n",
    "# class ListNode(object):\n",
    "#     def __init__(self, val=0, next=None):\n",
    "#         self.val = val\n",
    "#         self.next = next\n",
    "class Solution(object):\n",
    "    def mergeKLists(self, lists):\n",
    "        \"\"\"\n",
    "        :type lists: List[ListNode]\n",
    "        :rtype: ListNode\n",
    "        \"\"\"\n",
    "        # remove empty nodes\n",
    "        new_lists = []\n",
    "        for i in range(len(lists)):\n",
    "            if lists[i] is not None:\n",
    "                new_lists.append(lists[i])\n",
    "        lists = new_lists\n",
    "\n",
    "        if len(lists) > 0:\n",
    "            k_sorted_list = ListNode()\n",
    "            k_sorted_list_head = k_sorted_list\n",
    "            while len(lists) > 0:\n",
    "                val_list = make_val_list(lists)\n",
    "                min_val = min(val_list)\n",
    "                min_idx = argmin(val_list)\n",
    "\n",
    "                # remove the min from its origin\n",
    "                lists[min_idx] = lists[min_idx].next\n",
    "                if lists[min_idx] is None:\n",
    "                    del lists[min_idx]\n",
    "\n",
    "                # Append min val from val_list\n",
    "                k_sorted_list.val = min_val\n",
    "                if len(lists) != 0:\n",
    "                    k_sorted_list.next = ListNode()\n",
    "                    k_sorted_list = k_sorted_list.next\n",
    "\n",
    "            # complexity: O(kn)\n",
    "            return k_sorted_list_head\n",
    "        else:\n",
    "            return None\n",
    "            \n",
    "        \n",
    "def make_val_list(lists):\n",
    "    val_list = []\n",
    "    for head in lists:\n",
    "        val_list.append(head.val)\n",
    "    return val_list\n",
    "\n",
    "def argmin(val_list):\n",
    "    return val_list.index(min(val_list))"
   ]
  }
 ],
 "metadata": {
  "kernelspec": {
   "display_name": "Python 3",
   "language": "python",
   "name": "python3"
  },
  "language_info": {
   "codemirror_mode": {
    "name": "ipython",
    "version": 3
   },
   "file_extension": ".py",
   "mimetype": "text/x-python",
   "name": "python",
   "nbconvert_exporter": "python",
   "pygments_lexer": "ipython3",
   "version": "3.8.3"
  }
 },
 "nbformat": 4,
 "nbformat_minor": 4
}
