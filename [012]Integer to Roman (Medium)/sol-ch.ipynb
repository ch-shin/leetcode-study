{
 "cells": [
  {
   "cell_type": "code",
   "execution_count": null,
   "metadata": {},
   "outputs": [],
   "source": [
    "class Solution:\n",
    "    def intToRoman(self, num: int) -> str:\n",
    "        int_to_roman = {\n",
    "            1000: 'M',\n",
    "            900: 'CM',\n",
    "            500: 'D',\n",
    "            400: 'CD',\n",
    "            100: 'C',\n",
    "            90: 'XC',\n",
    "            50: 'L',\n",
    "            40: 'XL',\n",
    "            10: 'X',\n",
    "            9: 'IX',\n",
    "            5: 'V',\n",
    "            4: 'IV',\n",
    "            1: 'I'\n",
    "        }\n",
    "        key_ordered_list = sorted(int_to_roman.keys(), reverse=True)\n",
    "        key_idx = 0\n",
    "        roman = ''\n",
    "        while num > 0:\n",
    "            if num >= key_ordered_list[key_idx]:\n",
    "                num -= key_ordered_list[key_idx]\n",
    "                roman = roman + int_to_roman[key_ordered_list[key_idx]]\n",
    "            else:\n",
    "                key_idx = key_idx + 1\n",
    "        return roman"
   ]
  }
 ],
 "metadata": {
  "kernelspec": {
   "display_name": "Python 3",
   "language": "python",
   "name": "python3"
  },
  "language_info": {
   "codemirror_mode": {
    "name": "ipython",
    "version": 3
   },
   "file_extension": ".py",
   "mimetype": "text/x-python",
   "name": "python",
   "nbconvert_exporter": "python",
   "pygments_lexer": "ipython3",
   "version": "3.8.3"
  }
 },
 "nbformat": 4,
 "nbformat_minor": 4
}
