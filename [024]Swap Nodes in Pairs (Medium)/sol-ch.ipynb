{
 "cells": [
  {
   "cell_type": "code",
   "execution_count": null,
   "metadata": {},
   "outputs": [],
   "source": [
    "# Definition for singly-linked list.\n",
    "# class ListNode(object):\n",
    "#     def __init__(self, val=0, next=None):\n",
    "#         self.val = val\n",
    "#         self.next = next\n",
    "class Solution(object):\n",
    "    def swapPairs(self, head):\n",
    "        \"\"\"\n",
    "        :type head: ListNode\n",
    "        :rtype: ListNode\n",
    "        \"\"\"\n",
    "        \n",
    "        if head is not None:\n",
    "            new_head = ListNode()\n",
    "            cursor = new_head\n",
    "\n",
    "            while (head is not None) and (head.next is not None):\n",
    "                cursor.val = head.next.val\n",
    "                cursor.next = ListNode(head.val)\n",
    "                if head.next.next is not None:\n",
    "                    cursor.next.next = ListNode()\n",
    "                cursor = cursor.next.next\n",
    "\n",
    "                head = head.next.next\n",
    "\n",
    "            if head is not None:\n",
    "                cursor.val = head.val\n",
    "            return new_head\n",
    "        else:\n",
    "            return None"
   ]
  }
 ],
 "metadata": {
  "kernelspec": {
   "display_name": "Python 3",
   "language": "python",
   "name": "python3"
  },
  "language_info": {
   "codemirror_mode": {
    "name": "ipython",
    "version": 3
   },
   "file_extension": ".py",
   "mimetype": "text/x-python",
   "name": "python",
   "nbconvert_exporter": "python",
   "pygments_lexer": "ipython3",
   "version": "3.8.3"
  }
 },
 "nbformat": 4,
 "nbformat_minor": 4
}
