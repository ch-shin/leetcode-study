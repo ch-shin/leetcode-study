{
 "cells": [
  {
   "cell_type": "code",
   "execution_count": 2,
   "metadata": {},
   "outputs": [],
   "source": [
    "from copy import deepcopy\n",
    "\n",
    "class Solution(object):\n",
    "    def combinationSum(self, candidates, target):\n",
    "        \"\"\"\n",
    "        :type candidates: List[int]\n",
    "        :type target: int\n",
    "        :rtype: List[List[int]]\n",
    "        \"\"\"\n",
    "        result = recursiveCombSum(candidates, target, used_candidates=[])\n",
    "        print(removeDuplicate(result))\n",
    "        return removeDuplicate(result)\n",
    "\n",
    "def recursiveCombSum(candidates, target, used_candidates=[]):\n",
    "    all_comb = []\n",
    "    \n",
    "    for c in candidates:\n",
    "        new_target = target - c\n",
    "        if new_target < 0:\n",
    "            continue\n",
    "            \n",
    "        new_used_candidates = deepcopy(used_candidates)\n",
    "        new_used_candidates.append(c)\n",
    "        \n",
    "        if new_target == 0:\n",
    "            all_comb.append(new_used_candidates)\n",
    "        \n",
    "        if new_target > 0:\n",
    "            new_comb_list = recursiveCombSum(candidates,\n",
    "                                        new_target,\n",
    "                                        new_used_candidates)\n",
    "            all_comb += new_comb_list\n",
    "\n",
    "    return all_comb\n",
    "\n",
    "def removeDuplicate(comb_list):\n",
    "    distinct_list = []\n",
    "    for comb in comb_list:\n",
    "        sorted_comb = sorted(comb)\n",
    "        if sorted_comb not in distinct_list:\n",
    "            distinct_list.append(sorted_comb)\n",
    "    return distinct_list\n"
   ]
  },
  {
   "cell_type": "markdown",
   "metadata": {},
   "source": [
    "Runtime: 1192 ms, faster than 5.04% of Python online submissions for Combination Sum.\n",
    "\n",
    "Memory Usage: 15.5 MB, less than 5.04% of Python online submissions for Combination Sum."
   ]
  },
  {
   "cell_type": "code",
   "execution_count": null,
   "metadata": {},
   "outputs": [],
   "source": []
  }
 ],
 "metadata": {
  "kernelspec": {
   "display_name": "Python 3",
   "language": "python",
   "name": "python3"
  },
  "language_info": {
   "codemirror_mode": {
    "name": "ipython",
    "version": 3
   },
   "file_extension": ".py",
   "mimetype": "text/x-python",
   "name": "python",
   "nbconvert_exporter": "python",
   "pygments_lexer": "ipython3",
   "version": "3.8.5"
  }
 },
 "nbformat": 4,
 "nbformat_minor": 4
}
