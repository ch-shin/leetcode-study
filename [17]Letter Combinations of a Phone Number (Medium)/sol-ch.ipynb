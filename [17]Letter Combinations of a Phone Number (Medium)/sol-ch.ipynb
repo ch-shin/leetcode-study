{
 "cells": [
  {
   "cell_type": "code",
   "execution_count": null,
   "metadata": {},
   "outputs": [],
   "source": [
    "mapper = {\n",
    "    \"1\": \"\",\n",
    "    \"2\": \"abc\",\n",
    "    \"3\": \"def\",\n",
    "    \"4\": \"ghi\",\n",
    "    \"5\": \"jkl\",\n",
    "    \"6\": \"mno\",\n",
    "    \"7\": \"pqrs\",\n",
    "    \"8\": \"tuv\",\n",
    "    \"9\": \"wxyz\"\n",
    "}\n",
    "class Solution(object):\n",
    "    def letterCombinations(self, digits):\n",
    "        \"\"\"\n",
    "        :type digits: str\n",
    "        :rtype: List[str]\n",
    "        \"\"\"\n",
    "        if len(digits) == 0:\n",
    "            return []\n",
    "        else:\n",
    "            letter_combinations = [\"\"]\n",
    "            for digit in digits:\n",
    "                digit_str = mapper[digit]\n",
    "                new_letter_combinations = []\n",
    "\n",
    "                for char in digit_str:\n",
    "                    char_concatenated_letter_combinations = map(lambda x: x + char, letter_combinations)\n",
    "                    new_letter_combinations += char_concatenated_letter_combinations\n",
    "                letter_combinations = new_letter_combinations\n",
    "            return letter_combinations"
   ]
  }
 ],
 "metadata": {
  "kernelspec": {
   "display_name": "Python 3",
   "language": "python",
   "name": "python3"
  },
  "language_info": {
   "codemirror_mode": {
    "name": "ipython",
    "version": 3
   },
   "file_extension": ".py",
   "mimetype": "text/x-python",
   "name": "python",
   "nbconvert_exporter": "python",
   "pygments_lexer": "ipython3",
   "version": "3.8.3"
  }
 },
 "nbformat": 4,
 "nbformat_minor": 4
}
