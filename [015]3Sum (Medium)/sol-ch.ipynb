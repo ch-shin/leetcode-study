{
 "cells": [
  {
   "cell_type": "code",
   "execution_count": null,
   "metadata": {},
   "outputs": [],
   "source": [
    "class Solution(object):\n",
    "    def threeSum(self, nums):\n",
    "        \"\"\"\n",
    "        :type nums: List[int]\n",
    "        :rtype: List[List[int]]\n",
    "        \"\"\"\n",
    "         # Third solution --> Sorting\n",
    "        nums.sort()\n",
    "        three_sums = set()\n",
    "        for i in range(len(nums)-2):\n",
    "            first_num = nums[i]\n",
    "            # the sum of the second and third num should be equal to -first_num\n",
    "            second_num_idx = i + 1\n",
    "            third_num_idx = len(nums) - 1\n",
    "            while second_num_idx < third_num_idx:\n",
    "                second_num = nums[second_num_idx]\n",
    "                third_num = nums[third_num_idx]\n",
    "                three_sum = first_num + second_num + third_num\n",
    "                \n",
    "                if three_sum == 0:\n",
    "                    triplet = (first_num, second_num, third_num)\n",
    "                    three_sums.add(triplet)\n",
    "                    second_num_idx += 1\n",
    "                    third_num_idx -= 1\n",
    "                elif three_sum > 0:\n",
    "                    third_num_idx -= 1\n",
    "                else:  # three_sum < 0\n",
    "                    second_num_idx += 1\n",
    "        return three_sums"
   ]
  }
 ],
 "metadata": {
  "kernelspec": {
   "display_name": "Python 3",
   "language": "python",
   "name": "python3"
  },
  "language_info": {
   "codemirror_mode": {
    "name": "ipython",
    "version": 3
   },
   "file_extension": ".py",
   "mimetype": "text/x-python",
   "name": "python",
   "nbconvert_exporter": "python",
   "pygments_lexer": "ipython3",
   "version": "3.8.3"
  }
 },
 "nbformat": 4,
 "nbformat_minor": 4
}
