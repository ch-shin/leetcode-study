{
 "cells": [
  {
   "cell_type": "code",
   "execution_count": null,
   "metadata": {},
   "outputs": [],
   "source": [
    "class Solution(object):\n",
    "    def removeNthFromEnd(self, head, n):\n",
    "        \"\"\"\n",
    "        :type head: ListNode\n",
    "        :type n: int\n",
    "        :rtype: ListNode\n",
    "        \"\"\"\n",
    "        cursor = head\n",
    "        log_upto_nth_from_end = head\n",
    "        nth_count = 0\n",
    "        cursor_just_before_nth_node = None\n",
    "        while cursor is not None:\n",
    "            if nth_count >= n:\n",
    "                # pop\n",
    "                cursor_just_before_nth_node = log_upto_nth_from_end\n",
    "                log_upto_nth_from_end = log_upto_nth_from_end.next\n",
    "            else:\n",
    "                nth_count += 1\n",
    "            cursor = cursor.next\n",
    "            \n",
    "        log_upto_nth_from_end = log_upto_nth_from_end.next\n",
    "        if cursor_just_before_nth_node is None:  # length == n\n",
    "            return log_upto_nth_from_end\n",
    "        else:\n",
    "            cursor_just_before_nth_node.next = log_upto_nth_from_end\n",
    "            return head"
   ]
  }
 ],
 "metadata": {
  "kernelspec": {
   "display_name": "Python 3",
   "language": "python",
   "name": "python3"
  },
  "language_info": {
   "codemirror_mode": {
    "name": "ipython",
    "version": 3
   },
   "file_extension": ".py",
   "mimetype": "text/x-python",
   "name": "python",
   "nbconvert_exporter": "python",
   "pygments_lexer": "ipython3",
   "version": "3.8.3"
  }
 },
 "nbformat": 4,
 "nbformat_minor": 4
}
