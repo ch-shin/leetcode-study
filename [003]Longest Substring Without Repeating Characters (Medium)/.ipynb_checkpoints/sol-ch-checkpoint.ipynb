{
 "cells": [
  {
   "cell_type": "code",
   "execution_count": null,
   "metadata": {},
   "outputs": [],
   "source": [
    "class Solution(object):\n",
    "    def lengthOfLongestSubstring(self, s):\n",
    "        \"\"\"\n",
    "        :type s: str\n",
    "        :rtype: int\n",
    "        \"\"\"\n",
    "        left = 0\n",
    "        right = 1\n",
    "        max_len = 0\n",
    "        if len(s) > 1:\n",
    "            while (left < len(s)) and (right < len(s)):\n",
    "                substr = s[left:right]\n",
    "                next_char = s[right]\n",
    "                matched, idx_in_substr = contains(substr, next_char)\n",
    "                right = right + 1\n",
    "                if matched:\n",
    "                    max_len = max(max_len, right - left - 1)\n",
    "                    left = left + idx_in_substr + 1\n",
    "                else:\n",
    "                    max_len = max(max_len, right - left)\n",
    "        elif len(s) == 1:\n",
    "            max_len = 1\n",
    "        else:\n",
    "            max_len = 0\n",
    "        return max_len\n",
    "\n",
    "def contains(substr, target_char):\n",
    "    matched = False\n",
    "    for idx_in_substr in range(len(substr)):\n",
    "        char = substr[idx_in_substr]\n",
    "        if char == target_char:\n",
    "            matched = True\n",
    "            break\n",
    "    return matched, idx_in_substr"
   ]
  }
 ],
 "metadata": {
  "kernelspec": {
   "display_name": "Python 3",
   "language": "python",
   "name": "python3"
  },
  "language_info": {
   "codemirror_mode": {
    "name": "ipython",
    "version": 3
   },
   "file_extension": ".py",
   "mimetype": "text/x-python",
   "name": "python",
   "nbconvert_exporter": "python",
   "pygments_lexer": "ipython3",
   "version": "3.8.3"
  }
 },
 "nbformat": 4,
 "nbformat_minor": 4
}
