{
 "cells": [
  {
   "cell_type": "code",
   "execution_count": null,
   "metadata": {},
   "outputs": [],
   "source": [
    "class Solution(object):\n",
    "    def mergeTwoLists(self, l1, l2):\n",
    "        \"\"\"\n",
    "        :type l1: ListNode\n",
    "        :type l2: ListNode\n",
    "        :rtype: ListNode\n",
    "        \"\"\"\n",
    "        merged_list = ListNode()\n",
    "        merged_list_cursor = merged_list\n",
    "        \n",
    "        while (l1 is not None) and (l2 is not None):\n",
    "            if l1.val > l2.val:\n",
    "                merged_list_cursor.next = ListNode(l2.val)\n",
    "                merged_list_cursor = merged_list_cursor.next\n",
    "                l2 = l2.next\n",
    "            else:\n",
    "                merged_list_cursor.next = ListNode(l1.val)\n",
    "                merged_list_cursor = merged_list_cursor.next\n",
    "                l1 = l1.next\n",
    "                \n",
    "        while l1 is not None:\n",
    "            merged_list_cursor.next = ListNode(l1.val)\n",
    "            merged_list_cursor = merged_list_cursor.next\n",
    "            l1 = l1.next\n",
    "            \n",
    "        while l2 is not None:\n",
    "            merged_list_cursor.next = ListNode(l2.val)\n",
    "            merged_list_cursor = merged_list_cursor.next\n",
    "            l2 = l2.next\n",
    "        \n",
    "        merged_list = merged_list.next\n",
    "        \n",
    "        return merged_list"
   ]
  }
 ],
 "metadata": {
  "kernelspec": {
   "display_name": "Python 3",
   "language": "python",
   "name": "python3"
  },
  "language_info": {
   "codemirror_mode": {
    "name": "ipython",
    "version": 3
   },
   "file_extension": ".py",
   "mimetype": "text/x-python",
   "name": "python",
   "nbconvert_exporter": "python",
   "pygments_lexer": "ipython3",
   "version": "3.8.3"
  }
 },
 "nbformat": 4,
 "nbformat_minor": 4
}
