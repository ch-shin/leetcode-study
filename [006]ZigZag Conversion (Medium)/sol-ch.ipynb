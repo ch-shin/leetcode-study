{
 "cells": [
  {
   "cell_type": "code",
   "execution_count": null,
   "metadata": {},
   "outputs": [],
   "source": [
    "class Solution(object):\n",
    "    def convert(self, s, numRows):\n",
    "        \"\"\"\n",
    "        :type s: str\n",
    "        :type numRows: int\n",
    "        :rtype: str\n",
    "        \"\"\"\n",
    "        if len(s) > 0:\n",
    "            if numRows == 1:\n",
    "                converted_s = s\n",
    "            else:\n",
    "                converted_s = \"\" + s[0:len(s):(numRows-1)*2]  # first line\n",
    "                for i in range(1, numRows-1):\n",
    "                    vertical_idx = i\n",
    "                    while(True):\n",
    "                        if vertical_idx >= len(s):\n",
    "                            break\n",
    "                        converted_s = converted_s + s[vertical_idx]\n",
    "\n",
    "                        cross_idx = vertical_idx + (numRows - i - 1) * 2\n",
    "                        if cross_idx >= len(s):\n",
    "                            break\n",
    "                        converted_s = converted_s + s[cross_idx]\n",
    "                        vertical_idx = vertical_idx + (numRows - 1) * 2\n",
    "                converted_s = converted_s + s[(numRows-1):len(s):(numRows-1)*2]\n",
    "        else:\n",
    "            converted_s = \"\"\n",
    "        \n",
    "        return converted_s"
   ]
  }
 ],
 "metadata": {
  "kernelspec": {
   "display_name": "Python 3",
   "language": "python",
   "name": "python3"
  },
  "language_info": {
   "codemirror_mode": {
    "name": "ipython",
    "version": 3
   },
   "file_extension": ".py",
   "mimetype": "text/x-python",
   "name": "python",
   "nbconvert_exporter": "python",
   "pygments_lexer": "ipython3",
   "version": "3.8.3"
  }
 },
 "nbformat": 4,
 "nbformat_minor": 4
}
